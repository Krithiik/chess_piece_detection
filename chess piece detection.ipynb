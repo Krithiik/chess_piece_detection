{
 "cells": [
  {
   "cell_type": "code",
   "execution_count": null,
   "id": "7a34de25",
   "metadata": {},
   "outputs": [],
   "source": [
    "!git clone https://github.com/ultralytics/yolov5"
   ]
  },
  {
   "cell_type": "code",
   "execution_count": null,
   "id": "51bd7d34",
   "metadata": {},
   "outputs": [],
   "source": [
    "!cd yolov5 & pip install -r requirements.txt"
   ]
  },
  {
   "cell_type": "code",
   "execution_count": null,
   "id": "cfbea44b",
   "metadata": {},
   "outputs": [],
   "source": [
    "import torch\n",
    "import numpy as np\n",
    "import cv2\n",
    "from matplotlib import pyplot as plt"
   ]
  },
  {
   "cell_type": "code",
   "execution_count": null,
   "id": "3014ba1f",
   "metadata": {},
   "outputs": [],
   "source": [
    "# load model  \n",
    "model = torch.hub.load('ultralytics/yolov5', 'yolov5l')"
   ]
  },
  {
   "cell_type": "code",
   "execution_count": null,
   "id": "eee90af3",
   "metadata": {},
   "outputs": [],
   "source": [
    "model"
   ]
  },
  {
   "cell_type": "code",
   "execution_count": null,
   "id": "697ca9f9",
   "metadata": {},
   "outputs": [],
   "source": [
    "# training phase\n",
    "\n",
    "# !cd yolov5 && python train.py --img 640 --batch 4 --epochs 100 --data dataset.yaml --weights yolov5s.pt \n",
    "!cd yolov5 && python train.py --img 640 --batch 8 --epochs 300 --data dataset.yaml --weights yolov5l.pt --name yolov5s_results  --cache"
   ]
  },
  {
   "cell_type": "code",
   "execution_count": null,
   "id": "74dd3d7e",
   "metadata": {},
   "outputs": [],
   "source": [
    "# this load a custom model with defined weights\n",
    "model = torch.hub.load('ultralytics/yolov5', 'custom', path='yolov5/runs/train/exp/weights/best.pt', force_reload=True)"
   ]
  },
  {
   "cell_type": "code",
   "execution_count": null,
   "id": "74cf4b65",
   "metadata": {},
   "outputs": [],
   "source": [
    "# detect\n",
    "!cd yolov5 && python detect.py --weights runs/train/exp/weights/best.pt --img 640 --conf 0.5 --source ../datasets/test/images"
   ]
  }
 ],
 "metadata": {
  "kernelspec": {
   "display_name": "pytorch-yolo",
   "language": "python",
   "name": "myenv"
  },
  "language_info": {
   "codemirror_mode": {
    "name": "ipython",
    "version": 3
   },
   "file_extension": ".py",
   "mimetype": "text/x-python",
   "name": "python",
   "nbconvert_exporter": "python",
   "pygments_lexer": "ipython3",
   "version": "3.11.3"
  }
 },
 "nbformat": 4,
 "nbformat_minor": 5
}
